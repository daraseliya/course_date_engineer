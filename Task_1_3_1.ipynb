{
  "nbformat": 4,
  "nbformat_minor": 0,
  "metadata": {
    "colab": {
      "provenance": [],
      "authorship_tag": "ABX9TyOZsoLNrFrUCHsyG55DT2/q",
      "include_colab_link": true
    },
    "kernelspec": {
      "name": "python3",
      "display_name": "Python 3"
    },
    "language_info": {
      "name": "python"
    }
  },
  "cells": [
    {
      "cell_type": "markdown",
      "metadata": {
        "id": "view-in-github",
        "colab_type": "text"
      },
      "source": [
        "<a href=\"https://colab.research.google.com/github/daraseliya/course_date_engineer/blob/develop/Task_1_3_1.ipynb\" target=\"_parent\"><img src=\"https://colab.research.google.com/assets/colab-badge.svg\" alt=\"Open In Colab\"/></a>"
      ]
    },
    {
      "cell_type": "code",
      "execution_count": null,
      "metadata": {
        "id": "r0Jm_cakSIAD"
      },
      "outputs": [],
      "source": [
        "import requests as req\n",
        "from bs4 import BeautifulSoup\n",
        "import json\n",
        "import tqdm\n",
        "\n",
        "#url =\"https://www.avito.ru/moskva/rabota?q=python\"\n",
        "#resp = req.get(url)\n",
        "\n",
        "## url = \"https://hh.ru/search/vacancy?text=python&salary=&clusters=true&area=1&ored_clusters=true&enable_snippets=true\"\n",
        "## resp = req.get(url)\n",
        "#print(resp.text)\n",
        "\n",
        "## soup = BeautifulSoup(resp.text, \"lxml\")\n",
        "#tag = soup.find(attrs={\"data-marker\":\"page-title/text\"})\n",
        "#tag = soup.find(attrs={\"data-qa\":\"bloko-header-3\"}) #поиск заголовка наути вакансии\n",
        "#print(tag)\n",
        "\n",
        "## tags = soup.find_all(attrs={\"data-qa\":\"serp-item__title\"})  #поиск вакансий\n",
        "\n",
        "data = {\n",
        "    \"data\" : []\n",
        "}\n",
        "\n",
        "\n",
        "for page in range(0,10):\n",
        "\n",
        "    url = f\"https://hh.ru/search/vacancy?text=python&salary=&clusters=true&area=1&ored_clusters=true&enable_snippets=true&page={page}&hhtmFrom=vacancy_search_list\"\n",
        "    resp = req.get(url)\n",
        "    soup = BeautifulSoup(resp.text, \"lxml\")\n",
        "    tags = soup.find_all(attrs={\"data-qa\":\"serp-item__title\"})  #поиск вакансий\n",
        "\n",
        "    for iter in  tqdm.tqdm(tags): #for iter in tags:\n",
        "        #print(iter.text, iter.attrs[\"href\"]) #вакансия ссылка\n",
        "        #time.sleep(2)\n",
        "\n",
        "        # url_object = \"https://www.avito.ru\"+ iter.attrs[\"href\"] #для авито\n",
        "        url_object =  iter.attrs[\"href\"] # для hh.ru\n",
        "        resp_object = req.get(url_object)\n",
        "        soup_object = BeautifulSoup(resp_object.text, \"lxml\")\n",
        "        tag_price = soup_object.find(attrs={\"data-qa\":\"vacancy-salary\"}).find(attrs={\"class\":\"bloko-header-section-2 bloko-header-section-2_lite\"}).text\n",
        "        tag_region = soup_object.find(attrs={\"data-qa\":\"vacancy-view-location\"}).text\n",
        "        tag_exp = soup_object.find(attrs={\"class\":\"vacancy-description-list-item\"}).find(attrs={\"data-qa\":\"vacancy-experience\"}).text\n",
        "\n",
        "        data[\"data\"].append({\"title\": iter.text, \"work experience\": tag_exp, \"salary\":tag_price, \"region\":tag_region})\n",
        "\n",
        "        #print(iter.text, tag_exp, tag_price, tag_region)\n",
        "\n",
        "    \n",
        "        with open(\"data.json\",\"w\") as file:\n",
        "            json.dump(data, file, ensure_ascii=False)\n",
        "\n"
      ]
    }
  ]
}